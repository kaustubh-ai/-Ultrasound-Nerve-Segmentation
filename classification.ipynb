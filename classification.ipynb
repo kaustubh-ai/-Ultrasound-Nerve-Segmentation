{
 "cells": [
  {
   "cell_type": "code",
   "execution_count": 1,
   "metadata": {
    "colab": {
     "base_uri": "https://localhost:8080/",
     "height": 125
    },
    "colab_type": "code",
    "collapsed": true,
    "id": "JLOGc01_ohfn",
    "outputId": "3356a0de-217d-4c6c-8dd4-2749b69e705d"
   },
   "outputs": [
    {
     "name": "stdout",
     "output_type": "stream",
     "text": [
      "Go to this URL in a browser: https://accounts.google.com/o/oauth2/auth?client_id=947318989803-6bn6qk8qdgf4n4g3pfee6491hc0brc4i.apps.googleusercontent.com&redirect_uri=urn%3aietf%3awg%3aoauth%3a2.0%3aoob&response_type=code&scope=email%20https%3a%2f%2fwww.googleapis.com%2fauth%2fdocs.test%20https%3a%2f%2fwww.googleapis.com%2fauth%2fdrive%20https%3a%2f%2fwww.googleapis.com%2fauth%2fdrive.photos.readonly%20https%3a%2f%2fwww.googleapis.com%2fauth%2fpeopleapi.readonly\n",
      "\n",
      "Enter your authorization code:\n",
      "··········\n",
      "Mounted at /content/gdrive\n"
     ]
    }
   ],
   "source": [
    "from google.colab import drive\n",
    "drive.mount('/content/gdrive')"
   ]
  },
  {
   "cell_type": "code",
   "execution_count": 2,
   "metadata": {
    "colab": {
     "base_uri": "https://localhost:8080/",
     "height": 52
    },
    "colab_type": "code",
    "id": "YMYwWiJAohcC",
    "outputId": "29b66c98-7b12-4d07-8e76-88eae6aae777"
   },
   "outputs": [
    {
     "name": "stdout",
     "output_type": "stream",
     "text": [
      "Extracting all the files now...\n",
      "Done!\n"
     ]
    }
   ],
   "source": [
    "from zipfile import ZipFile \n",
    "\n",
    "with ZipFile('/content/gdrive/My Drive/nerve.zip', 'r') as zip: \n",
    "    print('Extracting all the files now...') \n",
    "    zip.extractall() \n",
    "    print('Done!') "
   ]
  },
  {
   "cell_type": "code",
   "execution_count": 3,
   "metadata": {
    "colab": {
     "base_uri": "https://localhost:8080/",
     "height": 140
    },
    "colab_type": "code",
    "id": "Ib95EB5W3AA8",
    "outputId": "4e7eb015-0fce-43d8-c11d-84ded39028c2"
   },
   "outputs": [
    {
     "data": {
      "text/plain": [
       "['/content/model/u_net.py',\n",
       " '/content/model/README.md',\n",
       " '/content/model/__pycache__/__init__.cpython-36.pyc',\n",
       " '/content/model/__pycache__/u_net.cpython-36.pyc',\n",
       " '/content/model/__pycache__/losses.cpython-36.pyc',\n",
       " '/content/model/losses.py',\n",
       " '/content/model/__init__.py']"
      ]
     },
     "execution_count": 3,
     "metadata": {
      "tags": []
     },
     "output_type": "execute_result"
    }
   ],
   "source": [
    "src = '/content/nerve/data/model'\n",
    "dst = '/content/model'\n",
    "\n",
    "from distutils.dir_util import copy_tree\n",
    "copy_tree(src, dst)"
   ]
  },
  {
   "cell_type": "code",
   "execution_count": 4,
   "metadata": {
    "colab": {
     "base_uri": "https://localhost:8080/",
     "height": 81
    },
    "colab_type": "code",
    "id": "-T3IzBcyohaJ",
    "outputId": "4a9b0a4b-99a6-48bb-f8ef-1609bc117c8b"
   },
   "outputs": [
    {
     "name": "stderr",
     "output_type": "stream",
     "text": [
      "Using TensorFlow backend.\n"
     ]
    },
    {
     "data": {
      "text/html": [
       "<p style=\"color: red;\">\n",
       "The default version of TensorFlow in Colab will soon switch to TensorFlow 2.x.<br>\n",
       "We recommend you <a href=\"https://www.tensorflow.org/guide/migrate\" target=\"_blank\">upgrade</a> now \n",
       "or ensure your notebook will continue to use TensorFlow 1.x via the <code>%tensorflow_version 1.x</code> magic:\n",
       "<a href=\"https://colab.research.google.com/notebooks/tensorflow_version.ipynb\" target=\"_blank\">more info</a>.</p>\n"
      ],
      "text/plain": [
       "<IPython.core.display.HTML object>"
      ]
     },
     "metadata": {
      "tags": []
     },
     "output_type": "display_data"
    }
   ],
   "source": [
    "import os\n",
    "import cv2\n",
    "import shutil\n",
    "import numpy as np\n",
    "import pandas as pd\n",
    "from tqdm import tqdm\n",
    "from model.u_net import get_unet_256\n",
    "from sklearn.model_selection import train_test_split\n",
    "from keras.callbacks import EarlyStopping, ReduceLROnPlateau, ModelCheckpoint"
   ]
  },
  {
   "cell_type": "code",
   "execution_count": 0,
   "metadata": {
    "colab": {},
    "colab_type": "code",
    "id": "CEkWxlv7jWco"
   },
   "outputs": [],
   "source": [
    "try:\n",
    "    os.mkdir('/content/img_mask')\n",
    "except:\n",
    "    pass\n",
    "\n",
    "for i in os.listdir('/content/nerve/data/train'):\n",
    "    if 'mask' in i:\n",
    "        src = os.path.join('/content/nerve/data/train', i)\n",
    "        dst = os.path.join('/content', 'img_mask', i)\n",
    "        shutil.move(src, dst)\n",
    "\n",
    "for i in os.listdir(os.path.join('/content', 'img_mask')):\n",
    "    src = os.path.join('/content', 'img_mask', i)\n",
    "    dst = os.path.join('/content/img_mask', '_'.join(i.split('_')[:2]) + '.tif')\n",
    "    os.rename(src, dst)"
   ]
  },
  {
   "cell_type": "code",
   "execution_count": 0,
   "metadata": {
    "colab": {},
    "colab_type": "code",
    "id": "EovPQFdtR7D1"
   },
   "outputs": [],
   "source": [
    "data_dir = '/content'"
   ]
  },
  {
   "cell_type": "code",
   "execution_count": 0,
   "metadata": {
    "colab": {},
    "colab_type": "code",
    "id": "NQCy09xKSXy_"
   },
   "outputs": [],
   "source": [
    "input_size = 256\n",
    "epochs = 20\n",
    "batch_size = 16\n",
    "\n",
    "orig_width = 580\n",
    "orig_height = 420\n",
    "\n",
    "threshold = 0.5"
   ]
  },
  {
   "cell_type": "code",
   "execution_count": 0,
   "metadata": {
    "colab": {},
    "colab_type": "code",
    "id": "yAqdksBaSXvW"
   },
   "outputs": [],
   "source": [
    "model = get_unet_256()"
   ]
  },
  {
   "cell_type": "code",
   "execution_count": 9,
   "metadata": {
    "colab": {
     "base_uri": "https://localhost:8080/",
     "height": 195
    },
    "colab_type": "code",
    "id": "8ev8GhEBSXsF",
    "outputId": "930b716a-fbfa-4135-e9bc-cf40e0f942e1"
   },
   "outputs": [
    {
     "data": {
      "text/html": [
       "<div>\n",
       "<style scoped>\n",
       "    .dataframe tbody tr th:only-of-type {\n",
       "        vertical-align: middle;\n",
       "    }\n",
       "\n",
       "    .dataframe tbody tr th {\n",
       "        vertical-align: top;\n",
       "    }\n",
       "\n",
       "    .dataframe thead th {\n",
       "        text-align: right;\n",
       "    }\n",
       "</style>\n",
       "<table border=\"1\" class=\"dataframe\">\n",
       "  <thead>\n",
       "    <tr style=\"text-align: right;\">\n",
       "      <th></th>\n",
       "      <th>subject</th>\n",
       "      <th>img</th>\n",
       "      <th>pixels</th>\n",
       "    </tr>\n",
       "  </thead>\n",
       "  <tbody>\n",
       "    <tr>\n",
       "      <th>0</th>\n",
       "      <td>1</td>\n",
       "      <td>1_1</td>\n",
       "      <td>168153 9 168570 15 168984 22 169401 26 169818 ...</td>\n",
       "    </tr>\n",
       "    <tr>\n",
       "      <th>1</th>\n",
       "      <td>1</td>\n",
       "      <td>1_2</td>\n",
       "      <td>96346 7 96762 16 97179 27 97595 35 98012 40 98...</td>\n",
       "    </tr>\n",
       "    <tr>\n",
       "      <th>2</th>\n",
       "      <td>1</td>\n",
       "      <td>1_3</td>\n",
       "      <td>121957 2 122365 26 122784 28 123202 31 123618 ...</td>\n",
       "    </tr>\n",
       "    <tr>\n",
       "      <th>3</th>\n",
       "      <td>1</td>\n",
       "      <td>1_4</td>\n",
       "      <td>110980 9 111393 21 111810 33 112228 43 112647 ...</td>\n",
       "    </tr>\n",
       "    <tr>\n",
       "      <th>4</th>\n",
       "      <td>1</td>\n",
       "      <td>1_5</td>\n",
       "      <td>NaN</td>\n",
       "    </tr>\n",
       "  </tbody>\n",
       "</table>\n",
       "</div>"
      ],
      "text/plain": [
       "   subject  img                                             pixels\n",
       "0        1  1_1  168153 9 168570 15 168984 22 169401 26 169818 ...\n",
       "1        1  1_2  96346 7 96762 16 97179 27 97595 35 98012 40 98...\n",
       "2        1  1_3  121957 2 122365 26 122784 28 123202 31 123618 ...\n",
       "3        1  1_4  110980 9 111393 21 111810 33 112228 43 112647 ...\n",
       "4        1  1_5                                                NaN"
      ]
     },
     "execution_count": 9,
     "metadata": {
      "tags": []
     },
     "output_type": "execute_result"
    }
   ],
   "source": [
    "df_train = pd.read_csv('/content/nerve/data/labels/train_masks.csv')\n",
    "\n",
    "df_train['img'] = df_train['subject'].astype(str) + '_' + df_train['img'].astype(str)\n",
    "df_train.head()"
   ]
  },
  {
   "cell_type": "code",
   "execution_count": 0,
   "metadata": {
    "colab": {},
    "colab_type": "code",
    "id": "jOmYJzQTSXZl"
   },
   "outputs": [],
   "source": [
    "ids_train = df_train['img']"
   ]
  },
  {
   "cell_type": "code",
   "execution_count": 11,
   "metadata": {
    "colab": {
     "base_uri": "https://localhost:8080/",
     "height": 52
    },
    "colab_type": "code",
    "id": "OWW5TvDnSXWM",
    "outputId": "4f84e8a4-4b13-4adf-cfdb-1a25085e26e7"
   },
   "outputs": [
    {
     "name": "stdout",
     "output_type": "stream",
     "text": [
      "Training on 5071 samples\n",
      "Validating on 564 samples\n"
     ]
    }
   ],
   "source": [
    "ids_train_split, ids_valid_split = train_test_split(ids_train, test_size=0.1, random_state=42)\n",
    "\n",
    "print('Training on {} samples'.format(len(ids_train_split)))\n",
    "print('Validating on {} samples'.format(len(ids_valid_split)))"
   ]
  },
  {
   "cell_type": "code",
   "execution_count": 0,
   "metadata": {
    "colab": {},
    "colab_type": "code",
    "id": "8m5XUm65SXVb"
   },
   "outputs": [],
   "source": [
    "def randomHueSaturationValue(image, hue_shift_limit=(-180, 180),\n",
    "                             sat_shift_limit=(-255, 255),\n",
    "                             val_shift_limit=(-255, 255), u=0.5):\n",
    "    if np.random.random() < u:\n",
    "        image = cv2.cvtColor(image, cv2.COLOR_BGR2HSV)\n",
    "        h, s, v = cv2.split(image)\n",
    "        hue_shift = np.random.uniform(hue_shift_limit[0], hue_shift_limit[1])\n",
    "        h = cv2.add(h, hue_shift)\n",
    "        sat_shift = np.random.uniform(sat_shift_limit[0], sat_shift_limit[1])\n",
    "        s = cv2.add(s, sat_shift)\n",
    "        val_shift = np.random.uniform(val_shift_limit[0], val_shift_limit[1])\n",
    "        v = cv2.add(v, val_shift)\n",
    "        image = cv2.merge((h, s, v))\n",
    "        image = cv2.cvtColor(image, cv2.COLOR_HSV2BGR)\n",
    "\n",
    "    return image\n",
    "\n",
    "\n",
    "def randomShiftScaleRotate(image, mask,\n",
    "                           shift_limit=(-0.0625, 0.0625),\n",
    "                           scale_limit=(-0.1, 0.1),\n",
    "                           rotate_limit=(-45, 45), aspect_limit=(0, 0),\n",
    "                           borderMode=cv2.BORDER_CONSTANT, u=0.5):\n",
    "    if np.random.random() < u:\n",
    "        height, width, channel = image.shape\n",
    "\n",
    "        angle = np.random.uniform(rotate_limit[0], rotate_limit[1])  # degree\n",
    "        scale = np.random.uniform(1 + scale_limit[0], 1 + scale_limit[1])\n",
    "        aspect = np.random.uniform(1 + aspect_limit[0], 1 + aspect_limit[1])\n",
    "        sx = scale * aspect / (aspect ** 0.5)\n",
    "        sy = scale / (aspect ** 0.5)\n",
    "        dx = round(np.random.uniform(shift_limit[0], shift_limit[1]) * width)\n",
    "        dy = round(np.random.uniform(shift_limit[0], shift_limit[1]) * height)\n",
    "\n",
    "        cc = np.math.cos(angle / 180 * np.math.pi) * sx\n",
    "        ss = np.math.sin(angle / 180 * np.math.pi) * sy\n",
    "        rotate_matrix = np.array([[cc, -ss], [ss, cc]])\n",
    "\n",
    "        box0 = np.array([[0, 0], [width, 0], [width, height], [0, height], ])\n",
    "        box1 = box0 - np.array([width / 2, height / 2])\n",
    "        box1 = np.dot(box1, rotate_matrix.T) + np.array([width / 2 + dx, height / 2 + dy])\n",
    "\n",
    "        box0 = box0.astype(np.float32)\n",
    "        box1 = box1.astype(np.float32)\n",
    "        mat = cv2.getPerspectiveTransform(box0, box1)\n",
    "        image = cv2.warpPerspective(image, mat, (width, height), flags=cv2.INTER_LINEAR, borderMode=borderMode,\n",
    "                                    borderValue=(\n",
    "                                        0, 0,\n",
    "                                        0,))\n",
    "        mask = cv2.warpPerspective(mask, mat, (width, height), flags=cv2.INTER_LINEAR, borderMode=borderMode,\n",
    "                                   borderValue=(\n",
    "                                       0, 0,\n",
    "                                       0,))\n",
    "\n",
    "    return image, mask\n",
    "\n",
    "\n",
    "def randomHorizontalFlip(image, mask, u=0.5):\n",
    "    if np.random.random() < u:\n",
    "        image = cv2.flip(image, 1)\n",
    "        mask = cv2.flip(mask, 1)\n",
    "\n",
    "    return image, mask"
   ]
  },
  {
   "cell_type": "code",
   "execution_count": 0,
   "metadata": {
    "colab": {},
    "colab_type": "code",
    "id": "pbbV0DcFSXUX"
   },
   "outputs": [],
   "source": [
    "def train_generator():\n",
    "    \n",
    "    while True:\n",
    "        for start in range(0, len(ids_train_split), batch_size):\n",
    "            \n",
    "            x_batch = []\n",
    "            y_batch = []\n",
    "            end = min(start + batch_size, len(ids_train_split))\n",
    "            ids_train_batch = ids_train_split[start:end]\n",
    "            \n",
    "            for id in ids_train_batch.values:\n",
    "                img = cv2.imread(os.path.join(data_dir, 'nerve/data/train/{}.tif'.format(id)))\n",
    "                img = cv2.resize(img, (input_size, input_size))\n",
    "                mask = cv2.imread(os.path.join(data_dir, 'img_mask/{}.tif'.format(id)), cv2.IMREAD_GRAYSCALE)\n",
    "                mask = cv2.resize(mask, (input_size, input_size))\n",
    "                \n",
    "                img = randomHueSaturationValue(img,\n",
    "                                               hue_shift_limit=(-50, 50),\n",
    "                                               sat_shift_limit=(-5, 5),\n",
    "                                               val_shift_limit=(-15, 15))\n",
    "                img, mask = randomShiftScaleRotate(img, mask,\n",
    "                                                   shift_limit=(-0.0625, 0.0625),\n",
    "                                                   scale_limit=(-0.1, 0.1),\n",
    "                                                   rotate_limit=(-0, 0))\n",
    "                img, mask = randomHorizontalFlip(img, mask)\n",
    "                \n",
    "                mask = np.expand_dims(mask, axis=2)\n",
    "                x_batch.append(img)\n",
    "                y_batch.append(mask)\n",
    "                \n",
    "            x_batch = np.array(x_batch, np.float32) / 255\n",
    "            y_batch = np.array(y_batch, np.float32) / 255\n",
    "            \n",
    "            yield x_batch, y_batch"
   ]
  },
  {
   "cell_type": "code",
   "execution_count": 0,
   "metadata": {
    "colab": {},
    "colab_type": "code",
    "id": "__d_7AKcSXTN"
   },
   "outputs": [],
   "source": [
    "def valid_generator():\n",
    "    \n",
    "    while True:\n",
    "        for start in range(0, len(ids_valid_split), batch_size):\n",
    "            \n",
    "            x_batch = []\n",
    "            y_batch = []\n",
    "            end = min(start + batch_size, len(ids_valid_split))\n",
    "            ids_valid_batch = ids_valid_split[start:end]\n",
    "            \n",
    "            for id in ids_valid_batch.values:\n",
    "                img = cv2.imread(os.path.join(data_dir, 'nerve/data/train/{}.tif'.format(id)))\n",
    "                img = cv2.resize(img, (input_size, input_size))\n",
    "                mask = cv2.imread(os.path.join(data_dir, 'img_mask/{}.tif'.format(id)), cv2.IMREAD_GRAYSCALE)\n",
    "                mask = cv2.resize(mask, (input_size, input_size))\n",
    "                mask = np.expand_dims(mask, axis=2)\n",
    "                x_batch.append(img)\n",
    "                y_batch.append(mask)\n",
    "                \n",
    "            x_batch = np.array(x_batch, np.float32) / 255\n",
    "            y_batch = np.array(y_batch, np.float32) / 255\n",
    "            \n",
    "            yield x_batch, y_batch"
   ]
  },
  {
   "cell_type": "code",
   "execution_count": 15,
   "metadata": {
    "colab": {
     "base_uri": "https://localhost:8080/",
     "height": 899
    },
    "colab_type": "code",
    "id": "8Vdrj3GuSXRq",
    "outputId": "602e4b55-14a2-43b8-d5bf-67786fb1748e"
   },
   "outputs": [
    {
     "name": "stdout",
     "output_type": "stream",
     "text": [
      "WARNING:tensorflow:From /usr/local/lib/python3.6/dist-packages/keras/backend/tensorflow_backend.py:1033: The name tf.assign_add is deprecated. Please use tf.compat.v1.assign_add instead.\n",
      "\n",
      "WARNING:tensorflow:From /usr/local/lib/python3.6/dist-packages/keras/backend/tensorflow_backend.py:1020: The name tf.assign is deprecated. Please use tf.compat.v1.assign instead.\n",
      "\n",
      "Epoch 1/20\n",
      "317/317 [==============================] - 212s 669ms/step - loss: 1.2398 - dice_coeff: 0.0606 - val_loss: 1.1685 - val_dice_coeff: 0.0948\n",
      "Epoch 2/20\n",
      "317/317 [==============================] - 187s 588ms/step - loss: 1.0859 - dice_coeff: 0.0988 - val_loss: 1.0708 - val_dice_coeff: 0.1265\n",
      "Epoch 3/20\n",
      "317/317 [==============================] - 186s 588ms/step - loss: 0.9942 - dice_coeff: 0.1400 - val_loss: 1.0472 - val_dice_coeff: 0.1378\n",
      "Epoch 4/20\n",
      "317/317 [==============================] - 186s 588ms/step - loss: 0.9045 - dice_coeff: 0.1935 - val_loss: 0.8818 - val_dice_coeff: 0.1927\n",
      "Epoch 5/20\n",
      "317/317 [==============================] - 186s 588ms/step - loss: 0.8148 - dice_coeff: 0.2590 - val_loss: 0.8012 - val_dice_coeff: 0.2574\n",
      "Epoch 6/20\n",
      "317/317 [==============================] - 186s 588ms/step - loss: 0.7228 - dice_coeff: 0.3342 - val_loss: 0.6988 - val_dice_coeff: 0.3493\n",
      "Epoch 7/20\n",
      "317/317 [==============================] - 187s 589ms/step - loss: 0.6363 - dice_coeff: 0.4112 - val_loss: 0.6484 - val_dice_coeff: 0.3957\n",
      "Epoch 8/20\n",
      "317/317 [==============================] - 186s 588ms/step - loss: 0.5531 - dice_coeff: 0.4882 - val_loss: 0.5526 - val_dice_coeff: 0.4936\n",
      "Epoch 9/20\n",
      "317/317 [==============================] - 187s 589ms/step - loss: 0.4954 - dice_coeff: 0.5436 - val_loss: 0.5080 - val_dice_coeff: 0.5316\n",
      "Epoch 10/20\n",
      "317/317 [==============================] - 186s 588ms/step - loss: 0.4600 - dice_coeff: 0.5783 - val_loss: 0.4929 - val_dice_coeff: 0.5475\n",
      "Epoch 11/20\n",
      "317/317 [==============================] - 187s 589ms/step - loss: 0.4275 - dice_coeff: 0.6102 - val_loss: 0.4524 - val_dice_coeff: 0.5947\n",
      "Epoch 12/20\n",
      "317/317 [==============================] - 187s 588ms/step - loss: 0.4151 - dice_coeff: 0.6234 - val_loss: 0.4542 - val_dice_coeff: 0.5905\n",
      "Epoch 13/20\n",
      "317/317 [==============================] - 186s 588ms/step - loss: 0.4040 - dice_coeff: 0.6341 - val_loss: 0.4248 - val_dice_coeff: 0.6204\n",
      "Epoch 14/20\n",
      "317/317 [==============================] - 186s 587ms/step - loss: 0.3976 - dice_coeff: 0.6402 - val_loss: 0.4417 - val_dice_coeff: 0.6017\n",
      "Epoch 15/20\n",
      "317/317 [==============================] - 186s 587ms/step - loss: 0.3916 - dice_coeff: 0.6460 - val_loss: 0.4486 - val_dice_coeff: 0.6010\n",
      "\n",
      "Epoch 00015: ReduceLROnPlateau reducing learning rate to 9.999999747378752e-06.\n",
      "Epoch 16/20\n",
      "317/317 [==============================] - 186s 588ms/step - loss: 0.3743 - dice_coeff: 0.6613 - val_loss: 0.4197 - val_dice_coeff: 0.6222\n",
      "Epoch 17/20\n",
      "317/317 [==============================] - 186s 588ms/step - loss: 0.3593 - dice_coeff: 0.6744 - val_loss: 0.4215 - val_dice_coeff: 0.6199\n",
      "Epoch 18/20\n",
      "317/317 [==============================] - 187s 588ms/step - loss: 0.3532 - dice_coeff: 0.6804 - val_loss: 0.4156 - val_dice_coeff: 0.6266\n",
      "Epoch 19/20\n",
      "317/317 [==============================] - 186s 588ms/step - loss: 0.3520 - dice_coeff: 0.6818 - val_loss: 0.4167 - val_dice_coeff: 0.6248\n",
      "Epoch 20/20\n",
      "317/317 [==============================] - 186s 587ms/step - loss: 0.3440 - dice_coeff: 0.6891 - val_loss: 0.4186 - val_dice_coeff: 0.6252\n",
      "\n",
      "Epoch 00020: ReduceLROnPlateau reducing learning rate to 9.999999747378752e-07.\n"
     ]
    },
    {
     "data": {
      "text/plain": [
       "<keras.callbacks.History at 0x7ff70e730cf8>"
      ]
     },
     "execution_count": 15,
     "metadata": {
      "tags": []
     },
     "output_type": "execute_result"
    }
   ],
   "source": [
    "callbacks = [EarlyStopping(monitor='val_loss', patience=3, verbose=1),\n",
    "             ReduceLROnPlateau(monitor='val_loss', factor=0.1, patience=2, verbose=1),\n",
    "             ModelCheckpoint(monitor='val_loss', filepath='nerve_weights.h5', save_best_only=True,\n",
    "                             save_weights_only=True)]\n",
    "\n",
    "model.fit_generator(generator=train_generator(),\n",
    "                    steps_per_epoch=np.ceil(float(len(ids_train_split)) / float(batch_size)),\n",
    "                    epochs=epochs,\n",
    "                    verbose=1,\n",
    "                    callbacks=callbacks,\n",
    "                    validation_data=valid_generator(),\n",
    "                    validation_steps=np.ceil(float(len(ids_valid_split)) / float(batch_size)))"
   ]
  },
  {
   "cell_type": "code",
   "execution_count": 0,
   "metadata": {
    "colab": {},
    "colab_type": "code",
    "id": "T31JLnHAU20p"
   },
   "outputs": [],
   "source": [
    "ids_test = pd.Series(np.arange(1, 5509))\n",
    "\n",
    "names = []\n",
    "for id in ids_test:\n",
    "    names.append('{}.tif'.format(id))"
   ]
  },
  {
   "cell_type": "code",
   "execution_count": 19,
   "metadata": {
    "colab": {
     "base_uri": "https://localhost:8080/",
     "height": 52
    },
    "colab_type": "code",
    "id": "nB8ptoO7U2yW",
    "outputId": "ed518ec1-5ee2-4801-b7e7-f71733dbe40c"
   },
   "outputs": [
    {
     "name": "stderr",
     "output_type": "stream",
     "text": [
      "\r",
      "  0%|          | 0/345 [00:00<?, ?it/s]"
     ]
    },
    {
     "name": "stdout",
     "output_type": "stream",
     "text": [
      "Predicting on 5508 samples with batch_size = 16...\n"
     ]
    },
    {
     "name": "stderr",
     "output_type": "stream",
     "text": [
      "100%|██████████| 345/345 [01:33<00:00,  3.70it/s]\n"
     ]
    }
   ],
   "source": [
    "def run_length_encode(img):\n",
    "    '''\n",
    "    img: numpy array, 1 - mask, 0 - background\n",
    "    Returns run length as string formated\n",
    "    '''\n",
    "    pixels = img.transpose().flatten()\n",
    "    pixels = np.concatenate([[0], pixels, [0]])\n",
    "    runs = np.where(pixels[1:] != pixels[:-1])[0] + 1\n",
    "    runs[1::2] -= runs[::2]\n",
    "    return ' '.join(str(x) for x in runs)\n",
    "\n",
    "rles = []\n",
    "\n",
    "model.load_weights(filepath='/content/nerve_weights.h5')\n",
    "\n",
    "print('Predicting on {} samples with batch_size = {}s'.format(len(ids_test), batch_size))\n",
    "\n",
    "for start in tqdm(range(0, len(ids_test), batch_size)):\n",
    "  \n",
    "    x_batch = []\n",
    "    end = min(start + batch_size, len(ids_test))\n",
    "    ids_test_batch = ids_test[start:end]\n",
    "    \n",
    "    for id in ids_test_batch.values:\n",
    "        img = cv2.imread('/content/nerve/data/test/test/{}.tif'.format(id))\n",
    "        img = cv2.resize(img, (input_size, input_size))\n",
    "        x_batch.append(img)\n",
    "        \n",
    "    x_batch = np.array(x_batch, np.float32) / 255\n",
    "    preds = model.predict_on_batch(x_batch)\n",
    "    preds = np.squeeze(preds, axis=3)\n",
    "    \n",
    "    for pred in preds:\n",
    "        prob = cv2.resize(pred, (orig_width, orig_height))\n",
    "        mask = prob > threshold\n",
    "        rle = run_length_encode(mask)\n",
    "        rles.append(rle)"
   ]
  },
  {
   "cell_type": "code",
   "execution_count": 0,
   "metadata": {
    "colab": {},
    "colab_type": "code",
    "id": "bmHCFMUTU2sl"
   },
   "outputs": [],
   "source": [
    "names = [i.split('.')[0] for i in names]\n",
    "df = pd.DataFrame({'img': names, 'pixels': rles})\n",
    "df.to_csv('submission.csv', index=False)"
   ]
  },
  {
   "cell_type": "code",
   "execution_count": 0,
   "metadata": {
    "colab": {},
    "colab_type": "code",
    "id": "e2omeuLnZnFa"
   },
   "outputs": [],
   "source": []
  }
 ],
 "metadata": {
  "accelerator": "GPU",
  "colab": {
   "collapsed_sections": [],
   "name": "Nervous.ipynb",
   "provenance": [],
   "toc_visible": true
  },
  "kernelspec": {
   "display_name": "Python 3",
   "language": "python",
   "name": "python3"
  },
  "language_info": {
   "codemirror_mode": {
    "name": "ipython",
    "version": 3
   },
   "file_extension": ".py",
   "mimetype": "text/x-python",
   "name": "python",
   "nbconvert_exporter": "python",
   "pygments_lexer": "ipython3",
   "version": "3.7.3"
  }
 },
 "nbformat": 4,
 "nbformat_minor": 1
}
